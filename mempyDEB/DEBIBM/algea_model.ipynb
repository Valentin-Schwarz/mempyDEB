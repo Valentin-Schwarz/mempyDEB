{
 "cells": [
  {
   "cell_type": "code",
   "execution_count": null,
   "metadata": {},
   "outputs": [],
   "source": []
  },
  {
   "cell_type": "code",
   "execution_count": 17,
   "metadata": {},
   "outputs": [],
   "source": [
    "from mempyDEB.DEBIBM.simulators import * # imports functions to run models\n",
    "from mempyDEB.DEBIBM.defaultparams import * # imports default parameters\n",
    "from mempyDEB.DEBIBM.model import * #import model"
   ]
  },
  {
   "cell_type": "code",
   "execution_count": 18,
   "metadata": {},
   "outputs": [
    {
     "name": "stdout",
     "output_type": "stream",
     "text": [
      "The autoreload extension is already loaded. To reload it, use:\n",
      "  %reload_ext autoreload\n"
     ]
    }
   ],
   "source": [
    "%load_ext autoreload\n",
    "%autoreload 2"
   ]
  },
  {
   "cell_type": "code",
   "execution_count": null,
   "metadata": {},
   "outputs": [
    {
     "name": "stderr",
     "output_type": "stream",
     "text": [
      "100%|██████████| 3/3 [05:09<00:00, 103.25s/it]\n"
     ]
    },
    {
     "ename": "NameError",
     "evalue": "name 'solve_AQPC' is not defined",
     "output_type": "error",
     "traceback": [
      "\u001b[1;31m---------------------------------------------------------------------------\u001b[0m",
      "\u001b[1;31mNameError\u001b[0m                                 Traceback (most recent call last)",
      "Cell \u001b[1;32mIn[21], line 2\u001b[0m\n\u001b[0;32m      1\u001b[0m sim \u001b[38;5;241m=\u001b[39m simulate_DEBIBM(defaultparams_DEBIBM) \u001b[38;5;66;03m# runs the baseline model (a variant of DEBkiss) with default parameters\u001b[39;00m\n\u001b[1;32m----> 2\u001b[0m test \u001b[38;5;241m=\u001b[39m \u001b[43msolve_AQPC\u001b[49m(defaultparams_DEBIBM)\n",
      "\u001b[1;31mNameError\u001b[0m: name 'solve_AQPC' is not defined"
     ]
    }
   ],
   "source": [
    "sim = simulate_DEBIBM(defaultparams_DEBIBM) # runs the baseline model (a variant of DEBkiss) with default parameters\n"
   ]
  },
  {
   "cell_type": "code",
   "execution_count": 22,
   "metadata": {},
   "outputs": [
    {
     "name": "stdout",
     "output_type": "stream",
     "text": [
      "IBMout(mout=     index  t_day            X  N_tot       M_tot  aging_mortality  \\\n",
      "0        0    0.0     0.000000     10    0.067500                0   \n",
      "1        1    0.0    52.083333     10    0.096561                0   \n",
      "2        2    3.5  3551.094826     10   54.436424                0   \n",
      "3        3    7.0  5433.935423     27  220.916019                0   \n",
      "4        4   10.5  4906.920389    158  764.646984                0   \n",
      "..     ...    ...          ...    ...         ...              ...   \n",
      "101    101  350.0   588.486461    199  706.127152             1861   \n",
      "102    102  353.5   206.546381    259  802.371068             1900   \n",
      "103    103  357.0   145.936743    259  949.334456             1902   \n",
      "104    104  360.5   139.082550    257  965.697569             1904   \n",
      "105    105  364.0   137.265124    256  972.004470             1904   \n",
      "\n",
      "     starvation_mortality  toxicity_mortality  replicate  C_W  \n",
      "0                       0                   0          0  0.0  \n",
      "1                       0                   0          0  0.0  \n",
      "2                       0                   0          0  0.0  \n",
      "3                       0                   0          0  0.0  \n",
      "4                       0                   0          0  0.0  \n",
      "..                    ...                 ...        ...  ...  \n",
      "101                   199                   0          2  0.0  \n",
      "102                   199                   0          2  0.0  \n",
      "103                   199                   0          2  0.0  \n",
      "104                   199                   0          2  0.0  \n",
      "105                   200                   0          2  0.0  \n",
      "\n",
      "[318 rows x 10 columns], aout=       Step  AgentID  t_day      Idot      Adot      Mdot         S    R  \\\n",
      "0         0        0    0.0  0.000000  0.000000  0.000000  0.006750  0.0   \n",
      "1         0        1    0.0  0.000000  0.000000  0.000000  0.006750  0.0   \n",
      "2         0        2    0.0  0.000000  0.000000  0.000000  0.006750  0.0   \n",
      "3         0        3    0.0  0.000000  0.000000  0.000000  0.006750  0.0   \n",
      "4         0        4    0.0  0.000000  0.000000  0.000000  0.006750  0.0   \n",
      "...     ...      ...    ...       ...       ...       ...       ...  ...   \n",
      "27235  8737     1712  364.0  2.326445  1.163222  1.124273  2.035704  0.0   \n",
      "27236  8737     1753  364.0  3.623331  1.811666  1.750255  3.169189  0.0   \n",
      "27237  8737     1867  364.0  2.535353  1.267677  1.185299  2.147752  0.0   \n",
      "27238  8737     1879  364.0  3.409619  1.704809  1.558728  2.825819  0.0   \n",
      "27239  8737     1780  364.0  4.266282  2.133141  2.024803  3.667712  0.0   \n",
      "\n",
      "              X_V       f_X  ...   k_M  eta_IA  eta_AR  X_emb  cum_repro  \\\n",
      "0             NaN       NaN  ...  0.55     0.5    0.95  0.675        0.0   \n",
      "1             NaN       NaN  ...  0.55     0.5    0.95  0.675        0.0   \n",
      "2             NaN       NaN  ...  0.55     0.5    0.95  0.675        0.0   \n",
      "3             NaN       NaN  ...  0.55     0.5    0.95  0.675        0.0   \n",
      "4             NaN       NaN  ...  0.55     0.5    0.95  0.675        0.0   \n",
      "...           ...       ...  ...   ...     ...     ...    ...        ...   \n",
      "27235  275.877000  0.355568  ...  0.55     0.5    0.95  0.000        0.0   \n",
      "27236  275.683129  0.355407  ...  0.55     0.5    0.95  0.000        0.0   \n",
      "27237  275.381185  0.355156  ...  0.55     0.5    0.95  0.000        0.0   \n",
      "27238  275.169906  0.354980  ...  0.55     0.5    0.95  0.000        0.0   \n",
      "27239  274.885771  0.354744  ...  0.55     0.5    0.95  0.000        0.0   \n",
      "\n",
      "       cohort  cause_of_death      mcov  replicate  C_W  \n",
      "0           0             0.0  0.000000          0  0.0  \n",
      "1           0             0.0  0.000000          0  0.0  \n",
      "2           0             0.0  0.000000          0  0.0  \n",
      "3           0             0.0  0.000000          0  0.0  \n",
      "4           0             0.0  0.000000          0  0.0  \n",
      "...       ...             ...       ...        ...  ...  \n",
      "27235       6             0.0 -0.077373          2  0.0  \n",
      "27236       6             0.0 -0.119756          2  0.0  \n",
      "27237       7             0.0 -0.044390          2  0.0  \n",
      "27238       7             0.0 -0.024400          2  0.0  \n",
      "27239       6             0.0 -0.104976          2  0.0  \n",
      "\n",
      "[80817 rows x 24 columns])\n"
     ]
    }
   ],
   "source": [
    "print(sim)"
   ]
  }
 ],
 "metadata": {
  "kernelspec": {
   "display_name": "mempydeb",
   "language": "python",
   "name": "python3"
  },
  "language_info": {
   "codemirror_mode": {
    "name": "ipython",
    "version": 3
   },
   "file_extension": ".py",
   "mimetype": "text/x-python",
   "name": "python",
   "nbconvert_exporter": "python",
   "pygments_lexer": "ipython3",
   "version": "3.11.11"
  }
 },
 "nbformat": 4,
 "nbformat_minor": 2
}
