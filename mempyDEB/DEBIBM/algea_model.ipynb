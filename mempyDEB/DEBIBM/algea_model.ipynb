{
 "cells": [
  {
   "cell_type": "code",
   "execution_count": 1,
   "execution_count": 259,
   "metadata": {},
   "outputs": [],
   "source": [
    "from copy import deepcopy"
   ]
  },
  {
   "cell_type": "code",
   "execution_count": 260,
   "metadata": {},
   "outputs": [
    {
     "name": "stdout",
     "output_type": "stream",
     "text": [
      "The autoreload extension is already loaded. To reload it, use:\n",
      "  %reload_ext autoreload\n"
     ]
    }
   ],
   "source": [
    "\n",
    "%load_ext autoreload\n",
    "%autoreload 2 "
   ]
  },
  {
   "cell_type": "code",
   "execution_count": 2,
   "execution_count": 261,
   "metadata": {},
   "outputs": [
    {
     "name": "stdout",
     "output_type": "stream",
     "text": [
      "using local version\n"
     ]
    },
    {
     "data": {
      "text/plain": [
       "'c:\\\\users\\\\valen\\\\desktop\\\\projekte\\\\phytoplankton_deb_ibm\\\\mempydeb\\\\mempyDEB\\\\__init__.py'"
      ]
     },
     "execution_count": 2,
     "metadata": {},
     "output_type": "execute_result"
    }
   ],
   "outputs": [],
   "source": [
    "# from mempyDEB.DEBIBM import test\n",
    "from mempyDEB.DEBIBM.simulators import * # imports functions to run models\n",
    "from mempyDEB.DEBIBM.defaultparams import * # imports default parameters\n",
    "from mempyDEB.DEBIBM.model import * #import model\n",
    "import mempyDEB\n",
    "#mempyDEB.__file__"
   ]
  },
  {
   "cell_type": "code",
   "execution_count": 3,
   "execution_count": 262,
   "metadata": {},
   "outputs": [
    {
     "name": "stdout",
     "output_type": "stream",
     "text": [
      "Params(glb={'tspan': (0, 14), 'tres': 24, 'N_0': 1, 'data_collection_interval': 3.5, 'collect_agent_data': True, 'replicates': 3, 'V_patch': 0.5, 'Xdot_in': 1250, 'kX_out': 0.1, 'C_W': 0.0, 'D': 0.5, 'T': 24, 'T_min': 0, 'T_max': 35, 'T_opt': 27, 'R0': 0.36, 'C_in': 0.0, 'I': 100, 'I_opt': 120, 'mu_max': 1.738, 'm_max': 0.05, 'v_max': 0.052, 'k': 0.5, 'q_min': 0.0011, 'q_max': 0.0144, 'slope': 2, 'EC50': 150, 'k_s': 0.068}, spc={'cv': 0.1, 'Idot_max_rel_mean': 5, 'eta_IA_0': 0.5, 'K_X': 500.0, 'kappa': 0.9, 'eta_AS_0': 0.9, 'eta_SA': 0.9, 'eta_AR_0': 0.95, 'k_M_0': 0.55, 'S_p_mean': 9, 'X_emb_int_mean': 0.675, 'tau_R': 2.5, 'S_rel_crit': 0.5, 'h_starve': 0.29, 'a_max_mean': 60, 'a_max_cv': 0.1, 'kD_j': 0.5, 'ED50_j': 1.0, 'beta_j': 1.0, 'pmoa': 'R', 'kD_h': 0.1, 'ED50_h': 2, 'beta_h': 1.0})\n"
     ]
    }
   ],
   "outputs": [],
   "source": [
    "p = deepcopy(defaultparams_DEBIBM)\n",
    "p.glb['tspan'] = (0,14)\n",
    "p.glb['data_collection_interval'] = 3.5\n",
    "p.glb['N_0'] = 1\n",
    "print(p)"
    "#p.glb['tspan'] = (0,14)\n",
    "p.glb['N_0']= 0"
   ]
  },
  {
   "cell_type": "code",
   "execution_count": 4,
   "metadata": {},
   "outputs": [
    {
     "name": "stderr",
     "output_type": "stream",
     "text": [
      "  0%|          | 0/3 [00:00<?, ?it/s]"
     ]
    }
   ],
   "source": [
    "sim = simulate_DEBIBM(p) # runs the baseline model (a variant of DEBkiss) with default parameters\n",
    "mout, aout = sim"
    "sim = simulate_DEBIBM(p) # runs the baseline model (a variant of DEBkiss) with default parameters\n",
    "mout, aout = sim "
   ]
  },
  {
   "cell_type": "code",
   "execution_count": 264,
   "metadata": {},
   "outputs": [
    {
     "data": {
      "text/html": [
       "<div>\n",
       "<style scoped>\n",
       "    .dataframe tbody tr th:only-of-type {\n",
       "        vertical-align: middle;\n",
       "    }\n",
       "\n",
       "    .dataframe tbody tr th {\n",
       "        vertical-align: top;\n",
       "    }\n",
       "\n",
       "    .dataframe thead th {\n",
       "        text-align: right;\n",
       "    }\n",
       "</style>\n",
       "<table border=\"1\" class=\"dataframe\">\n",
       "  <thead>\n",
       "    <tr style=\"text-align: right;\">\n",
       "      <th></th>\n",
       "      <th>index</th>\n",
       "      <th>t_day</th>\n",
       "      <th>X</th>\n",
       "      <th>Q</th>\n",
       "      <th>P</th>\n",
       "      <th>N_tot</th>\n",
       "      <th>M_tot</th>\n",
       "      <th>aging_mortality</th>\n",
       "      <th>starvation_mortality</th>\n",
       "      <th>toxicity_mortality</th>\n",
       "      <th>replicate</th>\n",
       "      <th>C_W</th>\n",
       "    </tr>\n",
       "  </thead>\n",
       "  <tbody>\n",
       "    <tr>\n",
       "      <th>0</th>\n",
       "      <td>0</td>\n",
       "      <td>0.0</td>\n",
       "      <td>2.000000</td>\n",
       "      <td>0.010000</td>\n",
       "      <td>2.000000</td>\n",
       "      <td>0</td>\n",
       "      <td>0.0</td>\n",
       "      <td>0</td>\n",
       "      <td>0</td>\n",
       "      <td>0</td>\n",
       "      <td>0</td>\n",
       "      <td>0.0</td>\n",
       "    </tr>\n",
       "    <tr>\n",
       "      <th>1</th>\n",
       "      <td>1</td>\n",
       "      <td>0.0</td>\n",
       "      <td>2.098253</td>\n",
       "      <td>0.015788</td>\n",
       "      <td>1.959849</td>\n",
       "      <td>0</td>\n",
       "      <td>0.0</td>\n",
       "      <td>0</td>\n",
       "      <td>0</td>\n",
       "      <td>0</td>\n",
       "      <td>0</td>\n",
       "      <td>0.0</td>\n",
       "    </tr>\n",
       "    <tr>\n",
       "      <th>2</th>\n",
       "      <td>2</td>\n",
       "      <td>3.5</td>\n",
       "      <td>24.034047</td>\n",
       "      <td>0.340529</td>\n",
       "      <td>0.295467</td>\n",
       "      <td>0</td>\n",
       "      <td>0.0</td>\n",
       "      <td>0</td>\n",
       "      <td>0</td>\n",
       "      <td>0</td>\n",
       "      <td>0</td>\n",
       "      <td>0.0</td>\n",
       "    </tr>\n",
       "    <tr>\n",
       "      <th>3</th>\n",
       "      <td>3</td>\n",
       "      <td>7.0</td>\n",
       "      <td>128.496247</td>\n",
       "      <td>1.831983</td>\n",
       "      <td>0.000000</td>\n",
       "      <td>0</td>\n",
       "      <td>0.0</td>\n",
       "      <td>0</td>\n",
       "      <td>0</td>\n",
       "      <td>0</td>\n",
       "      <td>0</td>\n",
       "      <td>0.0</td>\n",
       "    </tr>\n",
       "    <tr>\n",
       "      <th>4</th>\n",
       "      <td>4</td>\n",
       "      <td>10.5</td>\n",
       "      <td>NaN</td>\n",
       "      <td>NaN</td>\n",
       "      <td>NaN</td>\n",
       "      <td>0</td>\n",
       "      <td>0.0</td>\n",
       "      <td>0</td>\n",
       "      <td>0</td>\n",
       "      <td>0</td>\n",
       "      <td>0</td>\n",
       "      <td>0.0</td>\n",
       "    </tr>\n",
       "    <tr>\n",
       "      <th>...</th>\n",
       "      <td>...</td>\n",
       "      <td>...</td>\n",
       "      <td>...</td>\n",
       "      <td>...</td>\n",
       "      <td>...</td>\n",
       "      <td>...</td>\n",
       "      <td>...</td>\n",
       "      <td>...</td>\n",
       "      <td>...</td>\n",
       "      <td>...</td>\n",
       "      <td>...</td>\n",
       "      <td>...</td>\n",
       "    </tr>\n",
       "    <tr>\n",
       "      <th>101</th>\n",
       "      <td>101</td>\n",
       "      <td>350.0</td>\n",
       "      <td>NaN</td>\n",
       "      <td>NaN</td>\n",
       "      <td>NaN</td>\n",
       "      <td>0</td>\n",
       "      <td>0.0</td>\n",
       "      <td>0</td>\n",
       "      <td>0</td>\n",
       "      <td>0</td>\n",
       "      <td>2</td>\n",
       "      <td>0.0</td>\n",
       "    </tr>\n",
       "    <tr>\n",
       "      <th>102</th>\n",
       "      <td>102</td>\n",
       "      <td>353.5</td>\n",
       "      <td>NaN</td>\n",
       "      <td>NaN</td>\n",
       "      <td>NaN</td>\n",
       "      <td>0</td>\n",
       "      <td>0.0</td>\n",
       "      <td>0</td>\n",
       "      <td>0</td>\n",
       "      <td>0</td>\n",
       "      <td>2</td>\n",
       "      <td>0.0</td>\n",
       "    </tr>\n",
       "    <tr>\n",
       "      <th>103</th>\n",
       "      <td>103</td>\n",
       "      <td>357.0</td>\n",
       "      <td>NaN</td>\n",
       "      <td>NaN</td>\n",
       "      <td>NaN</td>\n",
       "      <td>0</td>\n",
       "      <td>0.0</td>\n",
       "      <td>0</td>\n",
       "      <td>0</td>\n",
       "      <td>0</td>\n",
       "      <td>2</td>\n",
       "      <td>0.0</td>\n",
       "    </tr>\n",
       "    <tr>\n",
       "      <th>104</th>\n",
       "      <td>104</td>\n",
       "      <td>360.5</td>\n",
       "      <td>NaN</td>\n",
       "      <td>NaN</td>\n",
       "      <td>NaN</td>\n",
       "      <td>0</td>\n",
       "      <td>0.0</td>\n",
       "      <td>0</td>\n",
       "      <td>0</td>\n",
       "      <td>0</td>\n",
       "      <td>2</td>\n",
       "      <td>0.0</td>\n",
       "    </tr>\n",
       "    <tr>\n",
       "      <th>105</th>\n",
       "      <td>105</td>\n",
       "      <td>364.0</td>\n",
       "      <td>NaN</td>\n",
       "      <td>NaN</td>\n",
       "      <td>NaN</td>\n",
       "      <td>0</td>\n",
       "      <td>0.0</td>\n",
       "      <td>0</td>\n",
       "      <td>0</td>\n",
       "      <td>0</td>\n",
       "      <td>2</td>\n",
       "      <td>0.0</td>\n",
       "    </tr>\n",
       "  </tbody>\n",
       "</table>\n",
       "<p>318 rows × 12 columns</p>\n",
       "</div>"
      ],
      "text/plain": [
       "     index  t_day           X         Q         P  N_tot  M_tot  \\\n",
       "0        0    0.0    2.000000  0.010000  2.000000      0    0.0   \n",
       "1        1    0.0    2.098253  0.015788  1.959849      0    0.0   \n",
       "2        2    3.5   24.034047  0.340529  0.295467      0    0.0   \n",
       "3        3    7.0  128.496247  1.831983  0.000000      0    0.0   \n",
       "4        4   10.5         NaN       NaN       NaN      0    0.0   \n",
       "..     ...    ...         ...       ...       ...    ...    ...   \n",
       "101    101  350.0         NaN       NaN       NaN      0    0.0   \n",
       "102    102  353.5         NaN       NaN       NaN      0    0.0   \n",
       "103    103  357.0         NaN       NaN       NaN      0    0.0   \n",
       "104    104  360.5         NaN       NaN       NaN      0    0.0   \n",
       "105    105  364.0         NaN       NaN       NaN      0    0.0   \n",
       "\n",
       "     aging_mortality  starvation_mortality  toxicity_mortality  replicate  C_W  \n",
       "0                  0                     0                   0          0  0.0  \n",
       "1                  0                     0                   0          0  0.0  \n",
       "2                  0                     0                   0          0  0.0  \n",
       "3                  0                     0                   0          0  0.0  \n",
       "4                  0                     0                   0          0  0.0  \n",
       "..               ...                   ...                 ...        ...  ...  \n",
       "101                0                     0                   0          2  0.0  \n",
       "102                0                     0                   0          2  0.0  \n",
       "103                0                     0                   0          2  0.0  \n",
       "104                0                     0                   0          2  0.0  \n",
       "105                0                     0                   0          2  0.0  \n",
       "\n",
       "[318 rows x 12 columns]"
      ]
     },
     "execution_count": 264,
     "metadata": {},
     "output_type": "execute_result"
    }
   ],
   "source": [
    "mout"
   ]
  },
  {
   "cell_type": "code",
   "execution_count": 265,
   "metadata": {},
   "outputs": [
    {
     "data": {
      "text/html": [
       "<div>\n",
       "<style scoped>\n",
       "    .dataframe tbody tr th:only-of-type {\n",
       "        vertical-align: middle;\n",
       "    }\n",
       "\n",
       "    .dataframe tbody tr th {\n",
       "        vertical-align: top;\n",
       "    }\n",
       "\n",
       "    .dataframe thead th {\n",
       "        text-align: right;\n",
       "    }\n",
       "</style>\n",
       "<table border=\"1\" class=\"dataframe\">\n",
       "  <thead>\n",
       "    <tr style=\"text-align: right;\">\n",
       "      <th></th>\n",
       "      <th>index</th>\n",
       "      <th>Step</th>\n",
       "      <th>AgentID</th>\n",
       "      <th>t_day</th>\n",
       "      <th>Idot</th>\n",
       "      <th>Adot</th>\n",
       "      <th>Mdot</th>\n",
       "      <th>S</th>\n",
       "      <th>R</th>\n",
       "      <th>X_V</th>\n",
       "      <th>...</th>\n",
       "      <th>k_M</th>\n",
       "      <th>eta_IA</th>\n",
       "      <th>eta_AR</th>\n",
       "      <th>X_emb</th>\n",
       "      <th>cum_repro</th>\n",
       "      <th>cohort</th>\n",
       "      <th>cause_of_death</th>\n",
       "      <th>mcov</th>\n",
       "      <th>replicate</th>\n",
       "      <th>C_W</th>\n",
       "    </tr>\n",
       "  </thead>\n",
       "  <tbody>\n",
       "  </tbody>\n",
       "</table>\n",
       "<p>0 rows × 25 columns</p>\n",
       "</div>"
      ],
      "text/plain": [
       "Empty DataFrame\n",
       "Columns: [index, Step, AgentID, t_day, Idot, Adot, Mdot, S, R, X_V, f_X, D_h, D_j, h_z, eta_AS, k_M, eta_IA, eta_AR, X_emb, cum_repro, cohort, cause_of_death, mcov, replicate, C_W]\n",
       "Index: []\n",
       "\n",
       "[0 rows x 25 columns]"
      ]
     },
     "execution_count": 265,
     "metadata": {},
     "output_type": "execute_result"
    }
   ],
   "source": [
    "mout.head(5)"
    "aout.loc[aout['AgentID']==2]"
   ]
  }
 ],
 "metadata": {
  "kernelspec": {
   "display_name": "mempydeb",
   "language": "python",
   "name": "python3"
  },
  "language_info": {
   "codemirror_mode": {
    "name": "ipython",
    "version": 3
   },
   "file_extension": ".py",
   "mimetype": "text/x-python",
   "name": "python",
   "nbconvert_exporter": "python",
   "pygments_lexer": "ipython3",
   "version": "3.11.11"
  }
 },
 "nbformat": 4,
 "nbformat_minor": 2
}
