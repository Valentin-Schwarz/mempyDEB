{
 "cells": [
  {
   "cell_type": "code",
   "execution_count": 6,
   "metadata": {},
   "outputs": [],
   "source": [
    "from copy import deepcopy"
   ]
  },
  {
   "cell_type": "code",
   "execution_count": 4,
   "metadata": {},
   "outputs": [],
   "source": [
    "from mempyDEB.DEBIBM.simulators import * # imports functions to run models\n",
    "from mempyDEB.DEBIBM.defaultparams import * # imports default parameters\n",
    "from mempyDEB.DEBIBM.model import * #import model"
   ]
  },
  {
   "cell_type": "code",
   "execution_count": 5,
   "metadata": {},
   "outputs": [
    {
     "name": "stdout",
     "output_type": "stream",
     "text": [
      "The autoreload extension is already loaded. To reload it, use:\n",
      "  %reload_ext autoreload\n"
     ]
    }
   ],
   "source": [
    "%load_ext autoreload\n",
    "%autoreload 2"
   ]
  },
  {
   "cell_type": "code",
   "execution_count": 8,
   "metadata": {},
   "outputs": [],
   "source": [
    "p = deepcopy(defaultparams_DEBIBM)\n",
    "p.glb['tspan'] = (0,14)"
   ]
  },
  {
   "cell_type": "code",
   "execution_count": 10,
   "metadata": {},
   "outputs": [
    {
     "name": "stderr",
     "output_type": "stream",
     "text": [
      "100%|██████████| 3/3 [00:07<00:00,  2.45s/it]\n"
     ]
    }
   ],
   "source": [
    "sim = simulate_DEBIBM(p) # runs the baseline model (a variant of DEBkiss) with default parameters\n"
   ]
  },
  {
   "cell_type": "code",
   "execution_count": 11,
   "metadata": {},
   "outputs": [
    {
     "name": "stdout",
     "output_type": "stream",
     "text": [
      "IBMout(mout=   index  t_day            X  N_tot       M_tot  aging_mortality  \\\n",
      "0      0    0.0     0.000000     10    0.067500                0   \n",
      "1      1    0.0    52.083333     10    0.094835                0   \n",
      "2      2    3.5  3578.277780     10   46.464953                0   \n",
      "3      3    7.0  5572.186473     15  191.003697                0   \n",
      "4      4   10.5  5474.621584    141  631.565241                0   \n",
      "0      0    0.0     0.000000     10    0.067500                0   \n",
      "1      1    0.0    52.083333     10    0.095652                0   \n",
      "2      2    3.5  3563.341005     10   50.853529                0   \n",
      "3      3    7.0  5495.182629     27  203.936057                0   \n",
      "4      4   10.5  5139.266438    151  709.105228                0   \n",
      "0      0    0.0     0.000000     10    0.067500                0   \n",
      "1      1    0.0    52.083333     10    0.096812                0   \n",
      "2      2    3.5  3544.532565     10   56.379665                0   \n",
      "3      3    7.0  5399.472828     43  219.849105                0   \n",
      "4      4   10.5  4637.381937    165  831.712335                0   \n",
      "\n",
      "   starvation_mortality  toxicity_mortality  replicate  C_W  \n",
      "0                     0                   0          0  0.0  \n",
      "1                     0                   0          0  0.0  \n",
      "2                     0                   0          0  0.0  \n",
      "3                     0                   0          0  0.0  \n",
      "4                     0                   0          0  0.0  \n",
      "0                     0                   0          1  0.0  \n",
      "1                     0                   0          1  0.0  \n",
      "2                     0                   0          1  0.0  \n",
      "3                     0                   0          1  0.0  \n",
      "4                     0                   0          1  0.0  \n",
      "0                     0                   0          2  0.0  \n",
      "1                     0                   0          2  0.0  \n",
      "2                     0                   0          2  0.0  \n",
      "3                     0                   0          2  0.0  \n",
      "4                     0                   0          2  0.0  , aout=     Step  AgentID  t_day       Idot       Adot       Mdot          S  \\\n",
      "0       0        0    0.0   0.000000   0.000000   0.000000   0.006750   \n",
      "1       0        1    0.0   0.000000   0.000000   0.000000   0.006750   \n",
      "2       0        2    0.0   0.000000   0.000000   0.000000   0.006750   \n",
      "3       0        3    0.0   0.000000   0.000000   0.000000   0.006750   \n",
      "4       0        4    0.0   0.000000   0.000000   0.000000   0.006750   \n",
      "..    ...      ...    ...        ...        ...        ...        ...   \n",
      "233   253        1   10.5  54.598245  27.299122  20.325193  37.114047   \n",
      "234   253       53   10.5  16.707420   8.353710   3.218431   6.012939   \n",
      "235   253        7   10.5  62.254367  31.127183  23.164077  42.298393   \n",
      "236   253      164   10.5   0.000000   0.000000   0.000000   0.006750   \n",
      "237   253      165   10.5   0.000000   0.000000   0.000000   0.006750   \n",
      "\n",
      "            R          X_V       f_X  ...   k_M  eta_IA  eta_AR     X_emb  \\\n",
      "0    0.000000          NaN       NaN  ...  0.55     0.5    0.95  0.675000   \n",
      "1    0.000000          NaN       NaN  ...  0.55     0.5    0.95  0.675000   \n",
      "2    0.000000          NaN       NaN  ...  0.55     0.5    0.95  0.675000   \n",
      "3    0.000000          NaN       NaN  ...  0.55     0.5    0.95  0.675000   \n",
      "4    0.000000          NaN       NaN  ...  0.55     0.5    0.95  0.675000   \n",
      "..        ...          ...       ...  ...   ...     ...     ...       ...   \n",
      "233  0.253591  9285.893876  0.948906  ...  0.55     0.5    0.95  0.000000   \n",
      "234  0.000000  9281.344022  0.948882  ...  0.55     0.5    0.95  0.000000   \n",
      "235  0.070545  9279.951737  0.948875  ...  0.55     0.5    0.95  0.000000   \n",
      "236  0.000000          NaN       NaN  ...  0.55     0.5    0.95  0.731629   \n",
      "237  0.000000          NaN       NaN  ...  0.55     0.5    0.95  0.731689   \n",
      "\n",
      "     cum_repro  cohort  cause_of_death      mcov  replicate  C_W  \n",
      "0          0.0       0             0.0  0.000000          0  0.0  \n",
      "1          0.0       0             0.0  0.000000          0  0.0  \n",
      "2          0.0       0             0.0  0.000000          0  0.0  \n",
      "3          0.0       0             0.0  0.000000          0  0.0  \n",
      "4          0.0       0             0.0  0.000000          0  0.0  \n",
      "..         ...     ...             ...       ...        ...  ...  \n",
      "233       16.0       0             0.0  4.244017          2  0.0  \n",
      "234        0.0       1             0.0  4.299908          2  0.0  \n",
      "235       18.0       0             0.0  4.850388          2  0.0  \n",
      "236        0.0       1             0.0  0.000000          2  0.0  \n",
      "237        0.0       1             0.0  0.000000          2  0.0  \n",
      "\n",
      "[632 rows x 24 columns])\n"
     ]
    }
   ],
   "source": [
    "print(sim)"
   ]
  }
 ],
 "metadata": {
  "kernelspec": {
   "display_name": "mempydeb",
   "language": "python",
   "name": "python3"
  },
  "language_info": {
   "codemirror_mode": {
    "name": "ipython",
    "version": 3
   },
   "file_extension": ".py",
   "mimetype": "text/x-python",
   "name": "python",
   "nbconvert_exporter": "python",
   "pygments_lexer": "ipython3",
   "version": "3.11.11"
  }
 },
 "nbformat": 4,
 "nbformat_minor": 2
}
