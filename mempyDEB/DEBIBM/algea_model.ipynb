{
 "cells": [
  {
   "cell_type": "code",
   "execution_count": 3,
   "metadata": {},
   "outputs": [],
   "source": [
    "from copy import deepcopy"
   ]
  },
  {
   "cell_type": "code",
   "execution_count": 2,
   "metadata": {},
   "outputs": [
    {
     "ename": "TypeError",
     "evalue": "IBM.solve_AQPC() missing 6 required positional arguments: 'self', 'Ifunc', 'Tfunc', 'Qfunc', 'QPfunc', and 'Cfunc'",
     "output_type": "error",
     "traceback": [
      "\u001b[1;31m---------------------------------------------------------------------------\u001b[0m",
      "\u001b[1;31mTypeError\u001b[0m                                 Traceback (most recent call last)",
      "Cell \u001b[1;32mIn[2], line 1\u001b[0m\n\u001b[1;32m----> 1\u001b[0m \u001b[38;5;28;01mfrom\u001b[39;00m\u001b[38;5;250m \u001b[39m\u001b[38;5;21;01mmempyDEB\u001b[39;00m\u001b[38;5;21;01m.\u001b[39;00m\u001b[38;5;21;01mDEBIBM\u001b[39;00m\u001b[38;5;21;01m.\u001b[39;00m\u001b[38;5;21;01msimulators\u001b[39;00m\u001b[38;5;250m \u001b[39m\u001b[38;5;28;01mimport\u001b[39;00m \u001b[38;5;241m*\u001b[39m \u001b[38;5;66;03m# imports functions to run models\u001b[39;00m\n\u001b[0;32m      2\u001b[0m \u001b[38;5;28;01mfrom\u001b[39;00m\u001b[38;5;250m \u001b[39m\u001b[38;5;21;01mmempyDEB\u001b[39;00m\u001b[38;5;21;01m.\u001b[39;00m\u001b[38;5;21;01mDEBIBM\u001b[39;00m\u001b[38;5;21;01m.\u001b[39;00m\u001b[38;5;21;01mdefaultparams\u001b[39;00m\u001b[38;5;250m \u001b[39m\u001b[38;5;28;01mimport\u001b[39;00m \u001b[38;5;241m*\u001b[39m \u001b[38;5;66;03m# imports default parameters\u001b[39;00m\n\u001b[0;32m      3\u001b[0m \u001b[38;5;28;01mfrom\u001b[39;00m\u001b[38;5;250m \u001b[39m\u001b[38;5;21;01mmempyDEB\u001b[39;00m\u001b[38;5;21;01m.\u001b[39;00m\u001b[38;5;21;01mDEBIBM\u001b[39;00m\u001b[38;5;21;01m.\u001b[39;00m\u001b[38;5;21;01mmodel\u001b[39;00m\u001b[38;5;250m \u001b[39m\u001b[38;5;28;01mimport\u001b[39;00m \u001b[38;5;241m*\u001b[39m \u001b[38;5;66;03m#import model\u001b[39;00m\n",
      "File \u001b[1;32mc:\\users\\andre\\documents\\uni osnabrück\\v semester - ws24-25\\mem\\projekte git\\mempydeb\\mempyDEB\\DEBIBM\\simulators.py:9\u001b[0m\n\u001b[0;32m      6\u001b[0m \u001b[38;5;28;01mimport\u001b[39;00m\u001b[38;5;250m \u001b[39m\u001b[38;5;21;01mos\u001b[39;00m\n\u001b[0;32m      8\u001b[0m \u001b[38;5;28;01mfrom\u001b[39;00m\u001b[38;5;250m \u001b[39m\u001b[38;5;21;01m.\u001b[39;00m\u001b[38;5;21;01mdefaultparams\u001b[39;00m\u001b[38;5;250m \u001b[39m\u001b[38;5;28;01mimport\u001b[39;00m \u001b[38;5;241m*\u001b[39m\n\u001b[1;32m----> 9\u001b[0m \u001b[38;5;28;01mfrom\u001b[39;00m\u001b[38;5;250m \u001b[39m\u001b[38;5;21;01m.\u001b[39;00m\u001b[38;5;21;01mmodel\u001b[39;00m\u001b[38;5;250m \u001b[39m\u001b[38;5;28;01mimport\u001b[39;00m \u001b[38;5;241m*\u001b[39m\n\u001b[0;32m     11\u001b[0m \u001b[38;5;66;03m# while we use mesa < 3, suppress deprecatin warnings\u001b[39;00m\n\u001b[0;32m     12\u001b[0m \u001b[38;5;28;01mimport\u001b[39;00m\u001b[38;5;250m \u001b[39m\u001b[38;5;21;01mwarnings\u001b[39;00m ; warnings\u001b[38;5;241m.\u001b[39mwarn \u001b[38;5;241m=\u001b[39m \u001b[38;5;28;01mlambda\u001b[39;00m \u001b[38;5;241m*\u001b[39margs,\u001b[38;5;241m*\u001b[39m\u001b[38;5;241m*\u001b[39mkwargs: \u001b[38;5;28;01mNone\u001b[39;00m\n",
      "File \u001b[1;32mc:\\users\\andre\\documents\\uni osnabrück\\v semester - ws24-25\\mem\\projekte git\\mempydeb\\mempyDEB\\DEBIBM\\model.py:505\u001b[0m\n\u001b[0;32m    500\u001b[0m     \u001b[38;5;28;01mreturn\u001b[39;00m np\u001b[38;5;241m.\u001b[39msum([a\u001b[38;5;241m.\u001b[39mS \u001b[38;5;241m+\u001b[39m a\u001b[38;5;241m.\u001b[39mR \u001b[38;5;28;01mfor\u001b[39;00m a \u001b[38;5;129;01min\u001b[39;00m model\u001b[38;5;241m.\u001b[39mschedule\u001b[38;5;241m.\u001b[39magents])\n\u001b[0;32m    503\u001b[0m \u001b[38;5;66;03m# IBM object definition\u001b[39;00m\n\u001b[1;32m--> 505\u001b[0m \u001b[38;5;28;43;01mclass\u001b[39;49;00m\u001b[38;5;250;43m \u001b[39;49m\u001b[38;5;21;43;01mIBM\u001b[39;49;00m\u001b[43m(\u001b[49m\u001b[43mmesa\u001b[49m\u001b[38;5;241;43m.\u001b[39;49m\u001b[43mModel\u001b[49m\u001b[43m)\u001b[49m\u001b[43m:\u001b[49m\n\u001b[0;32m    506\u001b[0m \u001b[38;5;250;43m    \u001b[39;49m\u001b[38;5;124;43;03m\"\"\"\u001b[39;49;00m\n\u001b[0;32m    507\u001b[0m \u001b[38;5;124;43;03m    Definition of the model (IBM) object.\u001b[39;49;00m\n\u001b[0;32m    508\u001b[0m \u001b[38;5;124;43;03m    \"\"\"\u001b[39;49;00m\n\u001b[0;32m    510\u001b[0m \u001b[43m    \u001b[49m\u001b[38;5;28;43;01mdef\u001b[39;49;00m\u001b[38;5;250;43m \u001b[39;49m\u001b[38;5;21;43massign_params\u001b[39;49m\u001b[43m(\u001b[49m\u001b[38;5;28;43mself\u001b[39;49m\u001b[43m,\u001b[49m\u001b[43m \u001b[49m\u001b[43mp\u001b[49m\u001b[43m)\u001b[49m\u001b[43m:\u001b[49m\n",
      "File \u001b[1;32mc:\\users\\andre\\documents\\uni osnabrück\\v semester - ws24-25\\mem\\projekte git\\mempydeb\\mempyDEB\\DEBIBM\\model.py:679\u001b[0m, in \u001b[0;36mIBM\u001b[1;34m()\u001b[0m\n\u001b[0;32m    669\u001b[0m     model_df \u001b[38;5;241m=\u001b[39m pd\u001b[38;5;241m.\u001b[39mDataFrame({\n\u001b[0;32m    670\u001b[0m   \u001b[38;5;124m'\u001b[39m\u001b[38;5;124mtday\u001b[39m\u001b[38;5;124m'\u001b[39m: time, \u001b[38;5;66;03m# time in days\u001b[39;00m\n\u001b[0;32m    671\u001b[0m   \u001b[38;5;124m'\u001b[39m\u001b[38;5;124mA\u001b[39m\u001b[38;5;124m'\u001b[39m: solution[:,\u001b[38;5;241m0\u001b[39m],   \u001b[38;5;66;03m# population density\u001b[39;00m\n\u001b[1;32m   (...)\u001b[0m\n\u001b[0;32m    674\u001b[0m   \u001b[38;5;124m'\u001b[39m\u001b[38;5;124mC\u001b[39m\u001b[38;5;124m'\u001b[39m: solution[:,\u001b[38;5;241m3\u001b[39m]    \u001b[38;5;66;03m# toxicant concentration\u001b[39;00m\n\u001b[0;32m    675\u001b[0m })\n\u001b[0;32m    677\u001b[0m     \u001b[38;5;28;01mreturn\u001b[39;00m model_df\n\u001b[1;32m--> 679\u001b[0m algea_solution \u001b[38;5;241m=\u001b[39m \u001b[43msolve_AQPC\u001b[49m\u001b[43m(\u001b[49m\u001b[43m)\u001b[49m\n\u001b[0;32m    681\u001b[0m \u001b[38;5;28;01mdef\u001b[39;00m\u001b[38;5;250m \u001b[39m\u001b[38;5;21mupdate_resource\u001b[39m(\u001b[38;5;28mself\u001b[39m, solve_AQPC):\n\u001b[0;32m    683\u001b[0m \u001b[38;5;250m    \u001b[39m\u001b[38;5;124;03m\"\"\"\u001b[39;00m\n\u001b[0;32m    684\u001b[0m \u001b[38;5;124;03m    Calculate resource inflow and outflow rate and update biomass\u001b[39;00m\n\u001b[0;32m    685\u001b[0m \u001b[38;5;124;03m    \"\"\"\u001b[39;00m\n",
      "\u001b[1;31mTypeError\u001b[0m: IBM.solve_AQPC() missing 6 required positional arguments: 'self', 'Ifunc', 'Tfunc', 'Qfunc', 'QPfunc', and 'Cfunc'"
     ]
    }
   ],
   "source": [
    "from mempyDEB.DEBIBM.simulators import * # imports functions to run models\n",
    "from mempyDEB.DEBIBM.defaultparams import * # imports default parameters\n",
    "from mempyDEB.DEBIBM.model import * #import model\n",
    "\n",
    "import mempyDEB\n",
    "mempyDEB.__file__"
   ]
  },
  {
   "cell_type": "code",
   "execution_count": 3,
   "metadata": {},
   "outputs": [],
   "source": [
    "%load_ext autoreload\n",
    "%autoreload 2"
   ]
  },
  {
   "cell_type": "code",
   "execution_count": 4,
   "metadata": {},
   "outputs": [],
   "source": [
    "p = deepcopy(defaultparams_DEBIBM)\n",
    "p.glb['tspan'] = (0,14)"
   ]
  },
  {
   "cell_type": "code",
   "execution_count": 5,
   "metadata": {},
   "outputs": [
    {
     "data": {
      "text/plain": [
       "{'tspan': (0, 14),\n",
       " 'tres': 24,\n",
       " 'N_0': 10,\n",
       " 'data_collection_interval': 3.5,\n",
       " 'collect_agent_data': True,\n",
       " 'replicates': 3,\n",
       " 'V_patch': 0.5,\n",
       " 'Xdot_in': 1250,\n",
       " 'kX_out': 0.1,\n",
       " 'C_W': 0.0}"
      ]
     },
     "execution_count": 5,
     "metadata": {},
     "output_type": "execute_result"
    }
   ],
   "source": [
    "p.glb"
   ]
  },
  {
   "cell_type": "code",
   "execution_count": 10,
   "metadata": {},
   "outputs": [
    {
     "name": "stderr",
     "output_type": "stream",
     "text": [
      "100%|██████████| 3/3 [00:07<00:00,  2.45s/it]\n"
     ]
    }
   ],
   "source": [
    "sim = simulate_DEBIBM(p) # runs the baseline model (a variant of DEBkiss) with default parameters\n"
   ]
  },
  {
   "cell_type": "code",
   "execution_count": 11,
   "metadata": {},
   "outputs": [
    {
     "name": "stdout",
     "output_type": "stream",
     "text": [
      "IBMout(mout=   index  t_day            X  N_tot       M_tot  aging_mortality  \\\n",
      "0      0    0.0     0.000000     10    0.067500                0   \n",
      "1      1    0.0    52.083333     10    0.094835                0   \n",
      "2      2    3.5  3578.277780     10   46.464953                0   \n",
      "3      3    7.0  5572.186473     15  191.003697                0   \n",
      "4      4   10.5  5474.621584    141  631.565241                0   \n",
      "0      0    0.0     0.000000     10    0.067500                0   \n",
      "1      1    0.0    52.083333     10    0.095652                0   \n",
      "2      2    3.5  3563.341005     10   50.853529                0   \n",
      "3      3    7.0  5495.182629     27  203.936057                0   \n",
      "4      4   10.5  5139.266438    151  709.105228                0   \n",
      "0      0    0.0     0.000000     10    0.067500                0   \n",
      "1      1    0.0    52.083333     10    0.096812                0   \n",
      "2      2    3.5  3544.532565     10   56.379665                0   \n",
      "3      3    7.0  5399.472828     43  219.849105                0   \n",
      "4      4   10.5  4637.381937    165  831.712335                0   \n",
      "\n",
      "   starvation_mortality  toxicity_mortality  replicate  C_W  \n",
      "0                     0                   0          0  0.0  \n",
      "1                     0                   0          0  0.0  \n",
      "2                     0                   0          0  0.0  \n",
      "3                     0                   0          0  0.0  \n",
      "4                     0                   0          0  0.0  \n",
      "0                     0                   0          1  0.0  \n",
      "1                     0                   0          1  0.0  \n",
      "2                     0                   0          1  0.0  \n",
      "3                     0                   0          1  0.0  \n",
      "4                     0                   0          1  0.0  \n",
      "0                     0                   0          2  0.0  \n",
      "1                     0                   0          2  0.0  \n",
      "2                     0                   0          2  0.0  \n",
      "3                     0                   0          2  0.0  \n",
      "4                     0                   0          2  0.0  , aout=     Step  AgentID  t_day       Idot       Adot       Mdot          S  \\\n",
      "0       0        0    0.0   0.000000   0.000000   0.000000   0.006750   \n",
      "1       0        1    0.0   0.000000   0.000000   0.000000   0.006750   \n",
      "2       0        2    0.0   0.000000   0.000000   0.000000   0.006750   \n",
      "3       0        3    0.0   0.000000   0.000000   0.000000   0.006750   \n",
      "4       0        4    0.0   0.000000   0.000000   0.000000   0.006750   \n",
      "..    ...      ...    ...        ...        ...        ...        ...   \n",
      "233   253        1   10.5  54.598245  27.299122  20.325193  37.114047   \n",
      "234   253       53   10.5  16.707420   8.353710   3.218431   6.012939   \n",
      "235   253        7   10.5  62.254367  31.127183  23.164077  42.298393   \n",
      "236   253      164   10.5   0.000000   0.000000   0.000000   0.006750   \n",
      "237   253      165   10.5   0.000000   0.000000   0.000000   0.006750   \n",
      "\n",
      "            R          X_V       f_X  ...   k_M  eta_IA  eta_AR     X_emb  \\\n",
      "0    0.000000          NaN       NaN  ...  0.55     0.5    0.95  0.675000   \n",
      "1    0.000000          NaN       NaN  ...  0.55     0.5    0.95  0.675000   \n",
      "2    0.000000          NaN       NaN  ...  0.55     0.5    0.95  0.675000   \n",
      "3    0.000000          NaN       NaN  ...  0.55     0.5    0.95  0.675000   \n",
      "4    0.000000          NaN       NaN  ...  0.55     0.5    0.95  0.675000   \n",
      "..        ...          ...       ...  ...   ...     ...     ...       ...   \n",
      "233  0.253591  9285.893876  0.948906  ...  0.55     0.5    0.95  0.000000   \n",
      "234  0.000000  9281.344022  0.948882  ...  0.55     0.5    0.95  0.000000   \n",
      "235  0.070545  9279.951737  0.948875  ...  0.55     0.5    0.95  0.000000   \n",
      "236  0.000000          NaN       NaN  ...  0.55     0.5    0.95  0.731629   \n",
      "237  0.000000          NaN       NaN  ...  0.55     0.5    0.95  0.731689   \n",
      "\n",
      "     cum_repro  cohort  cause_of_death      mcov  replicate  C_W  \n",
      "0          0.0       0             0.0  0.000000          0  0.0  \n",
      "1          0.0       0             0.0  0.000000          0  0.0  \n",
      "2          0.0       0             0.0  0.000000          0  0.0  \n",
      "3          0.0       0             0.0  0.000000          0  0.0  \n",
      "4          0.0       0             0.0  0.000000          0  0.0  \n",
      "..         ...     ...             ...       ...        ...  ...  \n",
      "233       16.0       0             0.0  4.244017          2  0.0  \n",
      "234        0.0       1             0.0  4.299908          2  0.0  \n",
      "235       18.0       0             0.0  4.850388          2  0.0  \n",
      "236        0.0       1             0.0  0.000000          2  0.0  \n",
      "237        0.0       1             0.0  0.000000          2  0.0  \n",
      "\n",
      "[632 rows x 24 columns])\n"
     ]
    }
   ],
   "source": [
    "print(sim)"
   ]
  }
 ],
 "metadata": {
  "kernelspec": {
   "display_name": "mempydeb",
   "language": "python",
   "name": "python3"
  },
  "language_info": {
   "codemirror_mode": {
    "name": "ipython",
    "version": 3
   },
   "file_extension": ".py",
   "mimetype": "text/x-python",
   "name": "python",
   "nbconvert_exporter": "python",
   "pygments_lexer": "ipython3",
   "version": "3.11.11"
  }
 },
 "nbformat": 4,
 "nbformat_minor": 2
}
