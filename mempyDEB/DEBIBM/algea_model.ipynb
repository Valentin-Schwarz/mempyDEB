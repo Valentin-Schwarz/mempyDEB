{
 "cells": [
  {
   "cell_type": "code",
   "execution_count": 34,
   "metadata": {},
   "outputs": [],
   "source": [
    "from copy import deepcopy"
   ]
  },
  {
   "cell_type": "code",
   "execution_count": null,
   "metadata": {},
   "outputs": [],
   "source": [
    "\n"
   ]
  },
  {
   "cell_type": "code",
   "execution_count": 35,
   "metadata": {},
   "outputs": [
    {
     "ename": "TypeError",
     "evalue": "IBM.Qfunc() missing 1 required positional argument: 'X'",
     "output_type": "error",
     "traceback": [
      "\u001b[1;31m---------------------------------------------------------------------------\u001b[0m",
      "\u001b[1;31mTypeError\u001b[0m                                 Traceback (most recent call last)",
      "Cell \u001b[1;32mIn[35], line 2\u001b[0m\n\u001b[0;32m      1\u001b[0m \u001b[38;5;66;03m# from mempyDEB.DEBIBM import test\u001b[39;00m\n\u001b[1;32m----> 2\u001b[0m \u001b[38;5;28;01mfrom\u001b[39;00m\u001b[38;5;250m \u001b[39m\u001b[38;5;21;01mmempyDEB\u001b[39;00m\u001b[38;5;21;01m.\u001b[39;00m\u001b[38;5;21;01mDEBIBM\u001b[39;00m\u001b[38;5;21;01m.\u001b[39;00m\u001b[38;5;21;01msimulators\u001b[39;00m\u001b[38;5;250m \u001b[39m\u001b[38;5;28;01mimport\u001b[39;00m \u001b[38;5;241m*\u001b[39m \u001b[38;5;66;03m# imports functions to run models\u001b[39;00m\n\u001b[0;32m      3\u001b[0m \u001b[38;5;28;01mfrom\u001b[39;00m\u001b[38;5;250m \u001b[39m\u001b[38;5;21;01mmempyDEB\u001b[39;00m\u001b[38;5;21;01m.\u001b[39;00m\u001b[38;5;21;01mDEBIBM\u001b[39;00m\u001b[38;5;21;01m.\u001b[39;00m\u001b[38;5;21;01mdefaultparams\u001b[39;00m\u001b[38;5;250m \u001b[39m\u001b[38;5;28;01mimport\u001b[39;00m \u001b[38;5;241m*\u001b[39m \u001b[38;5;66;03m# imports default parameters\u001b[39;00m\n\u001b[0;32m      4\u001b[0m \u001b[38;5;28;01mfrom\u001b[39;00m\u001b[38;5;250m \u001b[39m\u001b[38;5;21;01mmempyDEB\u001b[39;00m\u001b[38;5;21;01m.\u001b[39;00m\u001b[38;5;21;01mDEBIBM\u001b[39;00m\u001b[38;5;21;01m.\u001b[39;00m\u001b[38;5;21;01mmodel\u001b[39;00m\u001b[38;5;250m \u001b[39m\u001b[38;5;28;01mimport\u001b[39;00m \u001b[38;5;241m*\u001b[39m \u001b[38;5;66;03m#import model\u001b[39;00m\n",
      "File \u001b[1;32mc:\\users\\valen\\desktop\\projekte\\phytoplankton_deb_ibm\\mempydeb\\mempyDEB\\DEBIBM\\simulators.py:9\u001b[0m\n\u001b[0;32m      6\u001b[0m \u001b[38;5;28;01mimport\u001b[39;00m\u001b[38;5;250m \u001b[39m\u001b[38;5;21;01mos\u001b[39;00m\n\u001b[0;32m      8\u001b[0m \u001b[38;5;28;01mfrom\u001b[39;00m\u001b[38;5;250m \u001b[39m\u001b[38;5;21;01m.\u001b[39;00m\u001b[38;5;21;01mdefaultparams\u001b[39;00m\u001b[38;5;250m \u001b[39m\u001b[38;5;28;01mimport\u001b[39;00m \u001b[38;5;241m*\u001b[39m\n\u001b[1;32m----> 9\u001b[0m \u001b[38;5;28;01mfrom\u001b[39;00m\u001b[38;5;250m \u001b[39m\u001b[38;5;21;01m.\u001b[39;00m\u001b[38;5;21;01mmodel\u001b[39;00m\u001b[38;5;250m \u001b[39m\u001b[38;5;28;01mimport\u001b[39;00m \u001b[38;5;241m*\u001b[39m\n\u001b[0;32m     11\u001b[0m \u001b[38;5;66;03m# while we use mesa < 3, suppress deprecatin warnings\u001b[39;00m\n\u001b[0;32m     12\u001b[0m \u001b[38;5;28;01mimport\u001b[39;00m\u001b[38;5;250m \u001b[39m\u001b[38;5;21;01mwarnings\u001b[39;00m ; warnings\u001b[38;5;241m.\u001b[39mwarn \u001b[38;5;241m=\u001b[39m \u001b[38;5;28;01mlambda\u001b[39;00m \u001b[38;5;241m*\u001b[39margs,\u001b[38;5;241m*\u001b[39m\u001b[38;5;241m*\u001b[39mkwargs: \u001b[38;5;28;01mNone\u001b[39;00m\n",
      "File \u001b[1;32mc:\\users\\valen\\desktop\\projekte\\phytoplankton_deb_ibm\\mempydeb\\mempyDEB\\DEBIBM\\model.py:505\u001b[0m\n\u001b[0;32m    500\u001b[0m     \u001b[38;5;28;01mreturn\u001b[39;00m np\u001b[38;5;241m.\u001b[39msum([a\u001b[38;5;241m.\u001b[39mS \u001b[38;5;241m+\u001b[39m a\u001b[38;5;241m.\u001b[39mR \u001b[38;5;28;01mfor\u001b[39;00m a \u001b[38;5;129;01min\u001b[39;00m model\u001b[38;5;241m.\u001b[39mschedule\u001b[38;5;241m.\u001b[39magents])\n\u001b[0;32m    503\u001b[0m \u001b[38;5;66;03m# IBM object definition\u001b[39;00m\n\u001b[1;32m--> 505\u001b[0m \u001b[38;5;28;43;01mclass\u001b[39;49;00m\u001b[38;5;250;43m \u001b[39;49m\u001b[38;5;21;43;01mIBM\u001b[39;49;00m\u001b[43m(\u001b[49m\u001b[43mmesa\u001b[49m\u001b[38;5;241;43m.\u001b[39;49m\u001b[43mModel\u001b[49m\u001b[43m)\u001b[49m\u001b[43m:\u001b[49m\n\u001b[0;32m    506\u001b[0m \u001b[38;5;250;43m    \u001b[39;49m\u001b[38;5;124;43;03m\"\"\"\u001b[39;49;00m\n\u001b[0;32m    507\u001b[0m \u001b[38;5;124;43;03m    Definition of the model (IBM) object.\u001b[39;49;00m\n\u001b[0;32m    508\u001b[0m \u001b[38;5;124;43;03m    \"\"\"\u001b[39;49;00m\n\u001b[0;32m    510\u001b[0m \u001b[43m    \u001b[49m\u001b[38;5;28;43;01mdef\u001b[39;49;00m\u001b[38;5;250;43m \u001b[39;49m\u001b[38;5;21;43massign_params\u001b[39;49m\u001b[43m(\u001b[49m\u001b[38;5;28;43mself\u001b[39;49m\u001b[43m,\u001b[49m\u001b[43m \u001b[49m\u001b[43mp\u001b[49m\u001b[43m)\u001b[49m\u001b[43m:\u001b[49m\n",
      "File \u001b[1;32mc:\\users\\valen\\desktop\\projekte\\phytoplankton_deb_ibm\\mempydeb\\mempyDEB\\DEBIBM\\model.py:679\u001b[0m, in \u001b[0;36mIBM\u001b[1;34m()\u001b[0m\n\u001b[0;32m    669\u001b[0m     model_df \u001b[38;5;241m=\u001b[39m pd\u001b[38;5;241m.\u001b[39mDataFrame({\n\u001b[0;32m    670\u001b[0m   \u001b[38;5;124m'\u001b[39m\u001b[38;5;124mtday\u001b[39m\u001b[38;5;124m'\u001b[39m: time, \u001b[38;5;66;03m# time in days\u001b[39;00m\n\u001b[0;32m    671\u001b[0m   \u001b[38;5;124m'\u001b[39m\u001b[38;5;124mA\u001b[39m\u001b[38;5;124m'\u001b[39m: solution[:,\u001b[38;5;241m0\u001b[39m],   \u001b[38;5;66;03m# population density\u001b[39;00m\n\u001b[1;32m   (...)\u001b[0m\n\u001b[0;32m    674\u001b[0m   \u001b[38;5;124m'\u001b[39m\u001b[38;5;124mC\u001b[39m\u001b[38;5;124m'\u001b[39m: solution[:,\u001b[38;5;241m3\u001b[39m]    \u001b[38;5;66;03m# toxicant concentration\u001b[39;00m\n\u001b[0;32m    675\u001b[0m })\n\u001b[0;32m    677\u001b[0m     \u001b[38;5;28;01mreturn\u001b[39;00m model_df\n\u001b[1;32m--> 679\u001b[0m algea_solution \u001b[38;5;241m=\u001b[39m \u001b[43msolve_AQPC\u001b[49m\u001b[43m(\u001b[49m\u001b[43mIfunc\u001b[49m\u001b[38;5;241;43m=\u001b[39;49m\u001b[43mIfunc\u001b[49m\u001b[43m,\u001b[49m\u001b[43m \u001b[49m\u001b[43mTfunc\u001b[49m\u001b[38;5;241;43m=\u001b[39;49m\u001b[43mTfunc\u001b[49m\u001b[43m,\u001b[49m\u001b[43m \u001b[49m\u001b[43mQfunc\u001b[49m\u001b[38;5;241;43m=\u001b[39;49m\u001b[43mQfunc\u001b[49m\u001b[43m,\u001b[49m\u001b[43m \u001b[49m\u001b[43mQPfunc\u001b[49m\u001b[38;5;241;43m=\u001b[39;49m\u001b[43mQPfunc\u001b[49m\u001b[43m,\u001b[49m\u001b[43m \u001b[49m\u001b[43mCfunc\u001b[49m\u001b[38;5;241;43m=\u001b[39;49m\u001b[43mCfunc\u001b[49m\u001b[43m)\u001b[49m\n\u001b[0;32m    681\u001b[0m \u001b[38;5;28;01mdef\u001b[39;00m\u001b[38;5;250m \u001b[39m\u001b[38;5;21mupdate_resource\u001b[39m(\u001b[38;5;28mself\u001b[39m, solve_AQPC):\n\u001b[0;32m    683\u001b[0m \u001b[38;5;250m    \u001b[39m\u001b[38;5;124;03m\"\"\"\u001b[39;00m\n\u001b[0;32m    684\u001b[0m \u001b[38;5;124;03m    Calculate resource inflow and outflow rate and update biomass\u001b[39;00m\n\u001b[0;32m    685\u001b[0m \u001b[38;5;124;03m    \"\"\"\u001b[39;00m\n",
      "File \u001b[1;32mc:\\users\\valen\\desktop\\projekte\\phytoplankton_deb_ibm\\mempydeb\\mempyDEB\\DEBIBM\\model.py:666\u001b[0m, in \u001b[0;36mIBM.solve_AQPC\u001b[1;34m(Ifunc, Tfunc, Qfunc, QPfunc, Cfunc, tmax, D, T, T_min, T_max, T_opt, R0, C_in, I, I_opt, mu_max, m_max, v_max, k, q_min, q_max, slope, EC50, k_s)\u001b[0m\n\u001b[0;32m    660\u001b[0m         \u001b[38;5;28;01mreturn\u001b[39;00m [((mu_max \u001b[38;5;241m*\u001b[39m fT \u001b[38;5;241m*\u001b[39m fI \u001b[38;5;241m*\u001b[39m fQ \u001b[38;5;241m*\u001b[39m fC) \u001b[38;5;241m-\u001b[39m m_max \u001b[38;5;241m-\u001b[39m D) \u001b[38;5;241m*\u001b[39m X,   \u001b[38;5;66;03m# dA\u001b[39;00m\n\u001b[0;32m    661\u001b[0m               v_max \u001b[38;5;241m*\u001b[39m fQP \u001b[38;5;241m*\u001b[39m X \u001b[38;5;241m-\u001b[39m (m_max \u001b[38;5;241m+\u001b[39m D) \u001b[38;5;241m*\u001b[39m Q,              \u001b[38;5;66;03m# dQ\u001b[39;00m\n\u001b[0;32m    662\u001b[0m               D \u001b[38;5;241m*\u001b[39m R0 \u001b[38;5;241m-\u001b[39m D \u001b[38;5;241m*\u001b[39m P \u001b[38;5;241m+\u001b[39m m_max \u001b[38;5;241m*\u001b[39m Q \u001b[38;5;241m-\u001b[39m (v_max \u001b[38;5;241m*\u001b[39m fQP \u001b[38;5;241m*\u001b[39m X), \u001b[38;5;66;03m# dP\u001b[39;00m\n\u001b[0;32m    663\u001b[0m               C_in \u001b[38;5;241m*\u001b[39m D \u001b[38;5;241m-\u001b[39m k \u001b[38;5;241m*\u001b[39m C \u001b[38;5;241m-\u001b[39m D \u001b[38;5;241m*\u001b[39m C]                       \u001b[38;5;66;03m# dC\u001b[39;00m\n\u001b[0;32m    665\u001b[0m \u001b[38;5;66;03m# solve the model\u001b[39;00m\n\u001b[1;32m--> 666\u001b[0m     solution \u001b[38;5;241m=\u001b[39m \u001b[43modeint\u001b[49m\u001b[43m(\u001b[49m\u001b[43mAQPC_deriv\u001b[49m\u001b[43m,\u001b[49m\u001b[43m \u001b[49m\u001b[43m(\u001b[49m\u001b[38;5;241;43m2\u001b[39;49m\u001b[43m,\u001b[49m\u001b[43m \u001b[49m\u001b[38;5;241;43m.1\u001b[39;49m\u001b[43m,\u001b[49m\u001b[43m \u001b[49m\u001b[38;5;241;43m2\u001b[39;49m\u001b[43m,\u001b[49m\u001b[43m \u001b[49m\u001b[38;5;241;43m0\u001b[39;49m\u001b[43m)\u001b[49m\u001b[43m,\u001b[49m\u001b[43m \u001b[49m\u001b[43mtime\u001b[49m\u001b[43m)\u001b[49m\n\u001b[0;32m    667\u001b[0m     solution \u001b[38;5;241m=\u001b[39m np\u001b[38;5;241m.\u001b[39mnan_to_num(solution)\n\u001b[0;32m    668\u001b[0m \u001b[38;5;66;03m# collect data in dataframe\u001b[39;00m\n",
      "File \u001b[1;32mc:\\Users\\valen\\anaconda3\\envs\\mempydeb\\Lib\\site-packages\\scipy\\integrate\\_odepack_py.py:254\u001b[0m, in \u001b[0;36modeint\u001b[1;34m(func, y0, t, args, Dfun, col_deriv, full_output, ml, mu, rtol, atol, tcrit, h0, hmax, hmin, ixpr, mxstep, mxhnil, mxordn, mxords, printmessg, tfirst)\u001b[0m\n\u001b[0;32m    251\u001b[0m y0 \u001b[38;5;241m=\u001b[39m copy(y0)\n\u001b[0;32m    253\u001b[0m \u001b[38;5;28;01mwith\u001b[39;00m ODE_LOCK:\n\u001b[1;32m--> 254\u001b[0m     output \u001b[38;5;241m=\u001b[39m \u001b[43m_odepack\u001b[49m\u001b[38;5;241;43m.\u001b[39;49m\u001b[43modeint\u001b[49m\u001b[43m(\u001b[49m\u001b[43mfunc\u001b[49m\u001b[43m,\u001b[49m\u001b[43m \u001b[49m\u001b[43my0\u001b[49m\u001b[43m,\u001b[49m\u001b[43m \u001b[49m\u001b[43mt\u001b[49m\u001b[43m,\u001b[49m\u001b[43m \u001b[49m\u001b[43margs\u001b[49m\u001b[43m,\u001b[49m\u001b[43m \u001b[49m\u001b[43mDfun\u001b[49m\u001b[43m,\u001b[49m\u001b[43m \u001b[49m\u001b[43mcol_deriv\u001b[49m\u001b[43m,\u001b[49m\u001b[43m \u001b[49m\u001b[43mml\u001b[49m\u001b[43m,\u001b[49m\u001b[43m \u001b[49m\u001b[43mmu\u001b[49m\u001b[43m,\u001b[49m\n\u001b[0;32m    255\u001b[0m \u001b[43m                            \u001b[49m\u001b[43mfull_output\u001b[49m\u001b[43m,\u001b[49m\u001b[43m \u001b[49m\u001b[43mrtol\u001b[49m\u001b[43m,\u001b[49m\u001b[43m \u001b[49m\u001b[43matol\u001b[49m\u001b[43m,\u001b[49m\u001b[43m \u001b[49m\u001b[43mtcrit\u001b[49m\u001b[43m,\u001b[49m\u001b[43m \u001b[49m\u001b[43mh0\u001b[49m\u001b[43m,\u001b[49m\u001b[43m \u001b[49m\u001b[43mhmax\u001b[49m\u001b[43m,\u001b[49m\u001b[43m \u001b[49m\u001b[43mhmin\u001b[49m\u001b[43m,\u001b[49m\n\u001b[0;32m    256\u001b[0m \u001b[43m                            \u001b[49m\u001b[43mixpr\u001b[49m\u001b[43m,\u001b[49m\u001b[43m \u001b[49m\u001b[43mmxstep\u001b[49m\u001b[43m,\u001b[49m\u001b[43m \u001b[49m\u001b[43mmxhnil\u001b[49m\u001b[43m,\u001b[49m\u001b[43m \u001b[49m\u001b[43mmxordn\u001b[49m\u001b[43m,\u001b[49m\u001b[43m \u001b[49m\u001b[43mmxords\u001b[49m\u001b[43m,\u001b[49m\n\u001b[0;32m    257\u001b[0m \u001b[43m                            \u001b[49m\u001b[38;5;28;43mint\u001b[39;49m\u001b[43m(\u001b[49m\u001b[38;5;28;43mbool\u001b[39;49m\u001b[43m(\u001b[49m\u001b[43mtfirst\u001b[49m\u001b[43m)\u001b[49m\u001b[43m)\u001b[49m\u001b[43m)\u001b[49m\n\u001b[0;32m    258\u001b[0m \u001b[38;5;28;01mif\u001b[39;00m output[\u001b[38;5;241m-\u001b[39m\u001b[38;5;241m1\u001b[39m] \u001b[38;5;241m<\u001b[39m \u001b[38;5;241m0\u001b[39m:\n\u001b[0;32m    259\u001b[0m     warning_msg \u001b[38;5;241m=\u001b[39m (\u001b[38;5;124mf\u001b[39m\u001b[38;5;124m\"\u001b[39m\u001b[38;5;132;01m{\u001b[39;00m_msgs[output[\u001b[38;5;241m-\u001b[39m\u001b[38;5;241m1\u001b[39m]]\u001b[38;5;132;01m}\u001b[39;00m\u001b[38;5;124m Run with full_output = 1 to \u001b[39m\u001b[38;5;124m\"\u001b[39m\n\u001b[0;32m    260\u001b[0m                    \u001b[38;5;124mf\u001b[39m\u001b[38;5;124m\"\u001b[39m\u001b[38;5;124mget quantitative information.\u001b[39m\u001b[38;5;124m\"\u001b[39m)\n",
      "File \u001b[1;32mc:\\users\\valen\\desktop\\projekte\\phytoplankton_deb_ibm\\mempydeb\\mempyDEB\\DEBIBM\\model.py:656\u001b[0m, in \u001b[0;36mIBM.solve_AQPC.<locals>.AQPC_deriv\u001b[1;34m(AQPC, t0)\u001b[0m\n\u001b[0;32m    653\u001b[0m \u001b[38;5;250m\u001b[39m\u001b[38;5;124;03m\"\"\"compute the derivative of the AQPC model\"\"\"\u001b[39;00m\n\u001b[0;32m    654\u001b[0m X, Q, P, C \u001b[38;5;241m=\u001b[39m AQPC \u001b[38;5;66;03m# unpack state vars\u001b[39;00m\n\u001b[1;32m--> 656\u001b[0m fQ  \u001b[38;5;241m=\u001b[39m \u001b[43mQfunc\u001b[49m\u001b[43m(\u001b[49m\u001b[43mQ\u001b[49m\u001b[43m,\u001b[49m\u001b[43m \u001b[49m\u001b[43mq_min\u001b[49m\u001b[43m,\u001b[49m\u001b[43m \u001b[49m\u001b[43mX\u001b[49m\u001b[43m)\u001b[49m\n\u001b[0;32m    657\u001b[0m fQP \u001b[38;5;241m=\u001b[39m QPfunc(X, Q, P, q_min, q_max, k_s)\n\u001b[0;32m    658\u001b[0m fC  \u001b[38;5;241m=\u001b[39m Cfunc(C, slope, EC50)\n",
      "\u001b[1;31mTypeError\u001b[0m: IBM.Qfunc() missing 1 required positional argument: 'X'"
     ]
    }
   ],
   "source": [
    "# from mempyDEB.DEBIBM import test\n",
    "from mempyDEB.DEBIBM.simulators import * # imports functions to run models\n",
    "from mempyDEB.DEBIBM.defaultparams import * # imports default parameters\n",
    "from mempyDEB.DEBIBM.model import * #import model\n",
    "import mempyDEB\n",
    "mempyDEB.__file__"
   ]
  },
  {
   "cell_type": "code",
   "execution_count": null,
   "metadata": {},
   "outputs": [
    {
     "name": "stdout",
     "output_type": "stream",
     "text": [
      "Params(glb={'tspan': (0, 14), 'tres': 24, 'N_0': 10, 'data_collection_interval': 3.5, 'collect_agent_data': True, 'replicates': 3, 'V_patch': 0.5, 'Xdot_in': 1250, 'kX_out': 0.1, 'C_W': 0.0, 'Temp': 27, 'I': 100}, spc={'cv': 0.1, 'Idot_max_rel_mean': 5, 'eta_IA_0': 0.5, 'K_X': 500.0, 'kappa': 0.9, 'eta_AS_0': 0.9, 'eta_SA': 0.9, 'eta_AR_0': 0.95, 'k_M_0': 0.55, 'S_p_mean': 9, 'X_emb_int_mean': 0.675, 'tau_R': 2.5, 'S_rel_crit': 0.5, 'h_starve': 0.29, 'a_max_mean': 60, 'a_max_cv': 0.1, 'kD_j': 0.5, 'ED50_j': 1.0, 'beta_j': 1.0, 'pmoa': 'R', 'kD_h': 0.5, 'ED50_h': 150, 'beta_h': 1.0, 'q_min': 0.0011, 'q_max': 0.0144, 'D': 0.5, 'T_min': 0, 'T_max': 35, 'T_opt': 27, 'I_opt': 120})\n"
     ]
    }
   ],
   "source": [
    "p = deepcopy(defaultparams_DEBIBM)\n",
    "p.glb['tspan'] = (0,14)\n",
    "print(p)"
   ]
  },
  {
   "cell_type": "code",
   "execution_count": null,
   "metadata": {},
   "outputs": [
    {
     "name": "stderr",
     "output_type": "stream",
     "text": [
      "100%|██████████| 3/3 [00:14<00:00,  4.98s/it]\n"
     ]
    }
   ],
   "source": [
    "sim = simulate_DEBIBM(p) # runs the baseline model (a variant of DEBkiss) with default parameters\n"
   ]
  },
  {
   "cell_type": "code",
   "execution_count": null,
   "metadata": {},
   "outputs": [
    {
     "name": "stdout",
     "output_type": "stream",
     "text": [
      "IBMout(mout=   index  t_day            X  N_tot       M_tot  aging_mortality  \\\n",
      "0      0    0.0     0.000000     10    0.067500                0   \n",
      "1      1    0.0    52.083333     10    0.095661                0   \n",
      "2      2    3.5  3564.499546     10   50.524879                0   \n",
      "3      3    7.0  5501.969818     20  207.081631                0   \n",
      "4      4   10.5  5099.858293    149  722.672554                0   \n",
      "0      0    0.0     0.000000     10    0.067500                0   \n",
      "1      1    0.0    52.083333     10    0.095191                0   \n",
      "2      2    3.5  3567.815525     10   49.570644                0   \n",
      "3      3    7.0  5516.584486     23  201.148304                0   \n",
      "4      4   10.5  5225.627331    145  688.457199                0   \n",
      "0      0    0.0     0.000000     10    0.067500                0   \n",
      "1      1    0.0    52.083333     10    0.097162                0   \n",
      "2      2    3.5  3541.053459     10   57.386907                0   \n",
      "3      3    7.0  5382.874510     33  230.995296                0   \n",
      "4      4   10.5  4508.853147    167  867.427668                0   \n",
      "\n",
      "   starvation_mortality  toxicity_mortality  replicate  C_W  \n",
      "0                     0                   0          0  0.0  \n",
      "1                     0                   0          0  0.0  \n",
      "2                     0                   0          0  0.0  \n",
      "3                     0                   0          0  0.0  \n",
      "4                     0                   0          0  0.0  \n",
      "0                     0                   0          1  0.0  \n",
      "1                     0                   0          1  0.0  \n",
      "2                     0                   0          1  0.0  \n",
      "3                     0                   0          1  0.0  \n",
      "4                     0                   0          1  0.0  \n",
      "0                     0                   0          2  0.0  \n",
      "1                     0                   0          2  0.0  \n",
      "2                     0                   0          2  0.0  \n",
      "3                     0                   0          2  0.0  \n",
      "4                     0                   0          2  0.0  , aout=     Step  AgentID  t_day       Idot      Adot      Mdot         S    R  \\\n",
      "0       0        0    0.0   0.000000  0.000000  0.000000  0.006750  0.0   \n",
      "1       0        1    0.0   0.000000  0.000000  0.000000  0.006750  0.0   \n",
      "2       0        2    0.0   0.000000  0.000000  0.000000  0.006750  0.0   \n",
      "3       0        3    0.0   0.000000  0.000000  0.000000  0.006750  0.0   \n",
      "4       0        4    0.0   0.000000  0.000000  0.000000  0.006750  0.0   \n",
      "..    ...      ...    ...        ...       ...       ...       ...  ...   \n",
      "225   253       49   10.5  16.290231  8.145115  3.322559  6.191318  0.0   \n",
      "226   253       73   10.5  11.552564  5.776282  2.073274  3.886792  0.0   \n",
      "227   253       84   10.5  12.783995  6.391997  2.074062  3.908974  0.0   \n",
      "228   253      166   10.5   0.000000  0.000000  0.000000  0.006750  0.0   \n",
      "229   253      167   10.5   0.000000  0.000000  0.000000  0.006750  0.0   \n",
      "\n",
      "             X_V       f_X  ...   k_M  eta_IA  eta_AR     X_emb  cum_repro  \\\n",
      "0            NaN       NaN  ...  0.55     0.5    0.95  0.675000        0.0   \n",
      "1            NaN       NaN  ...  0.55     0.5    0.95  0.675000        0.0   \n",
      "2            NaN       NaN  ...  0.55     0.5    0.95  0.675000        0.0   \n",
      "3            NaN       NaN  ...  0.55     0.5    0.95  0.675000        0.0   \n",
      "4            NaN       NaN  ...  0.55     0.5    0.95  0.675000        0.0   \n",
      "..           ...       ...  ...   ...     ...     ...       ...        ...   \n",
      "225  9021.091861  0.947485  ...  0.55     0.5    0.95  0.000000        0.0   \n",
      "226  9019.734341  0.947478  ...  0.55     0.5    0.95  0.000000        0.0   \n",
      "227  9018.771628  0.947472  ...  0.55     0.5    0.95  0.000000        0.0   \n",
      "228          NaN       NaN  ...  0.55     0.5    0.95  0.766899        0.0   \n",
      "229          NaN       NaN  ...  0.55     0.5    0.95  0.693252        0.0   \n",
      "\n",
      "     cohort  cause_of_death      mcov  replicate  C_W  \n",
      "0         0             0.0  0.000000          0  0.0  \n",
      "1         0             0.0  0.000000          0  0.0  \n",
      "2         0             0.0  0.000000          0  0.0  \n",
      "3         0             0.0  0.000000          0  0.0  \n",
      "4         0             0.0  0.000000          0  0.0  \n",
      "..      ...             ...       ...        ...  ...  \n",
      "225       1             0.0  4.008045          2  0.0  \n",
      "226       1             0.0  3.125379          2  0.0  \n",
      "227       1             0.0  3.678736          2  0.0  \n",
      "228       1             0.0  0.000000          2  0.0  \n",
      "229       1             0.0  0.000000          2  0.0  \n",
      "\n",
      "[627 rows x 24 columns])\n"
     ]
    }
   ],
   "source": [
    "print(sim)"
   ]
  }
 ],
 "metadata": {
  "kernelspec": {
   "display_name": "mempydeb",
   "language": "python",
   "name": "python3"
  },
  "language_info": {
   "codemirror_mode": {
    "name": "ipython",
    "version": 3
   },
   "file_extension": ".py",
   "mimetype": "text/x-python",
   "name": "python",
   "nbconvert_exporter": "python",
   "pygments_lexer": "ipython3",
   "version": "3.11.11"
  }
 },
 "nbformat": 4,
 "nbformat_minor": 2
}
