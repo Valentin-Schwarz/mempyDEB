{
 "cells": [
  {
   "cell_type": "code",
   "execution_count": 98,
   "metadata": {},
   "outputs": [],
   "source": [
    "from copy import deepcopy"
   ]
  },
  {
   "cell_type": "code",
   "execution_count": 99,
   "metadata": {},
   "outputs": [
    {
     "name": "stdout",
     "output_type": "stream",
     "text": [
      "The autoreload extension is already loaded. To reload it, use:\n",
      "  %reload_ext autoreload\n"
     ]
    }
   ],
   "source": [
    "\n",
    "%load_ext autoreload\n",
    "%autoreload 2 "
   ]
  },
  {
   "cell_type": "code",
   "execution_count": 100,
   "metadata": {},
   "outputs": [],
   "source": [
    "# from mempyDEB.DEBIBM import test\n",
    "from mempyDEB.DEBIBM.simulators import * # imports functions to run models\n",
    "from mempyDEB.DEBIBM.defaultparams import * # imports default parameters\n",
    "from mempyDEB.DEBIBM.model import * #import model\n",
    "import mempyDEB\n",
    "#mempyDEB.__file__"
   ]
  },
  {
   "cell_type": "code",
   "execution_count": 101,
   "metadata": {},
   "outputs": [
    {
     "data": {
      "text/plain": [
       "{'tspan': (0, 14),\n",
       " 'tres': 24,\n",
       " 'N_0': 10,\n",
       " 'data_collection_interval': 3.5,\n",
       " 'collect_agent_data': True,\n",
       " 'replicates': 3,\n",
       " 'V_patch': 0.5,\n",
       " 'Xdot_in': 1250,\n",
       " 'kX_out': 0.1,\n",
       " 'C_W': 0.0,\n",
       " 'tmax': 30,\n",
       " 'D': 0.5,\n",
       " 'T': 24,\n",
       " 'T_min': 0,\n",
       " 'T_max': 35,\n",
       " 'T_opt': 27,\n",
       " 'R0': 0.36,\n",
       " 'C_in': 0.0,\n",
       " 'I': 100,\n",
       " 'I_opt': 120,\n",
       " 'mu_max': 1.738,\n",
       " 'm_max': 0.05,\n",
       " 'v_max': 0.052,\n",
       " 'k': 0.5,\n",
       " 'q_min': 0.0011,\n",
       " 'q_max': 0.0144,\n",
       " 'slope': 2,\n",
       " 'EC50': 150,\n",
       " 'k_s': 0.068}"
      ]
     },
     "execution_count": 101,
     "metadata": {},
     "output_type": "execute_result"
    }
   ],
   "source": [
    "p = deepcopy(defaultparams_DEBIBM)\n",
    "p.glb['tspan'] = (0,14)\n",
    "p.glb"
   ]
  },
  {
   "cell_type": "code",
   "execution_count": 102,
   "metadata": {},
   "outputs": [
    {
     "name": "stderr",
     "output_type": "stream",
     "text": [
      "  0%|          | 0/3 [00:00<?, ?it/s]c:\\users\\andre\\documents\\uni osnabrück\\v semester - ws24-25\\mem\\projekte git\\mempydeb\\mempyDEB\\DEBIBM\\model.py:616: RuntimeWarning: invalid value encountered in log2\n",
      "  return 1 - np.exp(-np.log2(fract))\n",
      " 33%|███▎      | 1/3 [00:00<00:00,  6.64it/s]c:\\users\\andre\\documents\\uni osnabrück\\v semester - ws24-25\\mem\\projekte git\\mempydeb\\mempyDEB\\DEBIBM\\model.py:616: RuntimeWarning: invalid value encountered in log2\n",
      "  return 1 - np.exp(-np.log2(fract))\n",
      " 67%|██████▋   | 2/3 [00:00<00:00,  6.69it/s]c:\\users\\andre\\documents\\uni osnabrück\\v semester - ws24-25\\mem\\projekte git\\mempydeb\\mempyDEB\\DEBIBM\\model.py:616: RuntimeWarning: invalid value encountered in log2\n",
      "  return 1 - np.exp(-np.log2(fract))\n",
      "100%|██████████| 3/3 [00:00<00:00,  6.78it/s]\n"
     ]
    }
   ],
   "source": [
    "sim = simulate_DEBIBM(p) # runs the baseline model (a variant of DEBkiss) with default parameters\n"
   ]
  },
  {
   "cell_type": "code",
   "execution_count": 103,
   "metadata": {},
   "outputs": [
    {
     "name": "stdout",
     "output_type": "stream",
     "text": [
      "IBMout(mout=   index  t_day          X  N_tot     M_tot  aging_mortality  \\\n",
      "0      0    0.0  10.000000     10  0.067500                0   \n",
      "1      1    0.0  10.644327     10  0.095947                0   \n",
      "2      2    3.5        NaN     10       NaN                0   \n",
      "3      3    7.0        NaN     10       NaN                0   \n",
      "4      4   10.5        NaN     10       NaN                0   \n",
      "0      0    0.0  10.000000     10  0.067500                0   \n",
      "1      1    0.0  10.644327     10  0.097726                0   \n",
      "2      2    3.5        NaN     10       NaN                0   \n",
      "3      3    7.0        NaN     10       NaN                0   \n",
      "4      4   10.5        NaN     10       NaN                0   \n",
      "0      0    0.0  10.000000     10  0.067500                0   \n",
      "1      1    0.0  10.644327     10  0.096647                0   \n",
      "2      2    3.5        NaN     10       NaN                0   \n",
      "3      3    7.0        NaN     10       NaN                0   \n",
      "4      4   10.5        NaN     10       NaN                0   \n",
      "\n",
      "   starvation_mortality  toxicity_mortality  replicate  C_W  \n",
      "0                     0                   0          0  0.0  \n",
      "1                     0                   0          0  0.0  \n",
      "2                     0                   0          0  0.0  \n",
      "3                     0                   0          0  0.0  \n",
      "4                     0                   0          0  0.0  \n",
      "0                     0                   0          1  0.0  \n",
      "1                     0                   0          1  0.0  \n",
      "2                     0                   0          1  0.0  \n",
      "3                     0                   0          1  0.0  \n",
      "4                     0                   0          1  0.0  \n",
      "0                     0                   0          2  0.0  \n",
      "1                     0                   0          2  0.0  \n",
      "2                     0                   0          2  0.0  \n",
      "3                     0                   0          2  0.0  \n",
      "4                     0                   0          2  0.0  , aout=    Step  AgentID  t_day  Idot  Adot  Mdot        S    R  X_V  f_X  ...   k_M  \\\n",
      "0      0        0    0.0   0.0   0.0   0.0  0.00675  0.0  NaN  NaN  ...  0.55   \n",
      "1      0        1    0.0   0.0   0.0   0.0  0.00675  0.0  NaN  NaN  ...  0.55   \n",
      "2      0        2    0.0   0.0   0.0   0.0  0.00675  0.0  NaN  NaN  ...  0.55   \n",
      "3      0        3    0.0   0.0   0.0   0.0  0.00675  0.0  NaN  NaN  ...  0.55   \n",
      "4      0        4    0.0   0.0   0.0   0.0  0.00675  0.0  NaN  NaN  ...  0.55   \n",
      "..   ...      ...    ...   ...   ...   ...      ...  ...  ...  ...  ...   ...   \n",
      "45   253        1   10.5   NaN   NaN   NaN      NaN  0.0  NaN  NaN  ...  0.55   \n",
      "46   253        5   10.5   NaN   NaN   NaN      NaN  0.0  NaN  NaN  ...  0.55   \n",
      "47   253        2   10.5   NaN   NaN   NaN      NaN  0.0  NaN  NaN  ...  0.55   \n",
      "48   253        7   10.5   NaN   NaN   NaN      NaN  0.0  NaN  NaN  ...  0.55   \n",
      "49   253        9   10.5   NaN   NaN   NaN      NaN  0.0  NaN  NaN  ...  0.55   \n",
      "\n",
      "    eta_IA  eta_AR  X_emb  cum_repro  cohort  cause_of_death  mcov  replicate  \\\n",
      "0      0.5    0.95  0.675        0.0       0             0.0   0.0          0   \n",
      "1      0.5    0.95  0.675        0.0       0             0.0   0.0          0   \n",
      "2      0.5    0.95  0.675        0.0       0             0.0   0.0          0   \n",
      "3      0.5    0.95  0.675        0.0       0             0.0   0.0          0   \n",
      "4      0.5    0.95  0.675        0.0       0             0.0   0.0          0   \n",
      "..     ...     ...    ...        ...     ...             ...   ...        ...   \n",
      "45     0.5    0.95  0.000        0.0       0             0.0   NaN          2   \n",
      "46     0.5    0.95  0.000        0.0       0             0.0   NaN          2   \n",
      "47     0.5    0.95  0.000        0.0       0             0.0   NaN          2   \n",
      "48     0.5    0.95  0.000        0.0       0             0.0   NaN          2   \n",
      "49     0.5    0.95  0.000        0.0       0             0.0   NaN          2   \n",
      "\n",
      "    C_W  \n",
      "0   0.0  \n",
      "1   0.0  \n",
      "2   0.0  \n",
      "3   0.0  \n",
      "4   0.0  \n",
      "..  ...  \n",
      "45  0.0  \n",
      "46  0.0  \n",
      "47  0.0  \n",
      "48  0.0  \n",
      "49  0.0  \n",
      "\n",
      "[150 rows x 24 columns])\n"
     ]
    }
   ],
   "source": [
    "print(sim)"
   ]
  }
 ],
 "metadata": {
  "kernelspec": {
   "display_name": "mempydeb",
   "language": "python",
   "name": "python3"
  },
  "language_info": {
   "codemirror_mode": {
    "name": "ipython",
    "version": 3
   },
   "file_extension": ".py",
   "mimetype": "text/x-python",
   "name": "python",
   "nbconvert_exporter": "python",
   "pygments_lexer": "ipython3",
   "version": "3.11.11"
  }
 },
 "nbformat": 4,
 "nbformat_minor": 2
}
